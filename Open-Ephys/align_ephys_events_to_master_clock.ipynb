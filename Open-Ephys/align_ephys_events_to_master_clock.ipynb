{
 "cells": [
  {
   "cell_type": "markdown",
   "metadata": {},
   "source": [
    "#### Align ephys events to a master clock"
   ]
  },
  {
   "cell_type": "markdown",
   "metadata": {},
   "source": [
    "**Choose session to analyze**"
   ]
  },
  {
   "cell_type": "code",
   "execution_count": 1,
   "metadata": {},
   "outputs": [],
   "source": [
    "from pathlib import Path"
   ]
  },
  {
   "cell_type": "code",
   "execution_count": 2,
   "metadata": {},
   "outputs": [],
   "source": [
    "input_root_dir = Path('/ceph/sjones/projects/FlexiVexi/behavioural_data')\n",
    "\n",
    "# (Example session with both TTL and heartbeat events):\n",
    "animal_ID = 'FNT103'\n",
    "session_ID = '2024-07-31T10-21-59'"
   ]
  },
  {
   "cell_type": "markdown",
   "metadata": {},
   "source": [
    "**Load recording**\n",
    "* Load recording object\n",
    "* Load continuous.dat from stream 'NI-DAQmx-103.PXIe-6341'"
   ]
  },
  {
   "cell_type": "code",
   "execution_count": 3,
   "metadata": {},
   "outputs": [
    {
     "ename": "ModuleNotFoundError",
     "evalue": "No module named 'open_ephys'",
     "output_type": "error",
     "traceback": [
      "\u001b[0;31m---------------------------------------------------------------------------\u001b[0m",
      "\u001b[0;31mModuleNotFoundError\u001b[0m                       Traceback (most recent call last)",
      "Cell \u001b[0;32mIn[3], line 2\u001b[0m\n\u001b[1;32m      1\u001b[0m \u001b[38;5;28;01mimport\u001b[39;00m \u001b[38;5;21;01mos\u001b[39;00m\n\u001b[0;32m----> 2\u001b[0m \u001b[38;5;28;01mfrom\u001b[39;00m \u001b[38;5;21;01mopen_ephys\u001b[39;00m\u001b[38;5;21;01m.\u001b[39;00m\u001b[38;5;21;01manalysis\u001b[39;00m \u001b[38;5;28;01mimport\u001b[39;00m Session\n\u001b[1;32m      3\u001b[0m \u001b[38;5;28;01mimport\u001b[39;00m \u001b[38;5;21;01mpandas\u001b[39;00m \u001b[38;5;28;01mas\u001b[39;00m \u001b[38;5;21;01mpd\u001b[39;00m\n\u001b[1;32m      5\u001b[0m \u001b[38;5;28;01mdef\u001b[39;00m \u001b[38;5;21mget_record_node_path\u001b[39m(root_folder):\n\u001b[1;32m      6\u001b[0m     \u001b[38;5;66;03m# Traverse the directory tree\u001b[39;00m\n",
      "\u001b[0;31mModuleNotFoundError\u001b[0m: No module named 'open_ephys'"
     ]
    }
   ],
   "source": [
    "import os\n",
    "from open_ephys.analysis import Session\n",
    "import pandas as pd\n",
    "\n",
    "def get_record_node_path(root_folder):\n",
    "    # Traverse the directory tree\n",
    "    for dirpath, dirnames, filenames in os.walk(root_folder):\n",
    "        # Check if 'settings.xml' is in the current directory\n",
    "        if 'settings.xml' in filenames:\n",
    "            return dirpath\n",
    "    return None\n",
    "\n",
    "def get_session_path(root_folder):\n",
    "    # Traverse the directory tree\n",
    "    for dirpath, dirnames, filenames in os.walk(root_folder):\n",
    "        # Check if any file ends with 'settings.xml'\n",
    "        for filename in filenames:\n",
    "            if filename.endswith('settings.xml'):\n",
    "                # Get the folder one level up\n",
    "                folder_one_level_up = os.path.dirname(dirpath)\n",
    "                return folder_one_level_up\n",
    "    return None\n",
    "\n",
    "# Find the path to the recording session\n",
    "session_folder = os.path.join(input_root_dir, animal_ID, session_ID)\n",
    "ephys_session_path = get_session_path(session_folder)\n",
    "print(ephys_session_path)\n",
    "\n",
    "# load recording\n",
    "session = Session(ephys_session_path)\n",
    "recording = session.recordnodes[0].recordings[0]\n",
    "\n",
    "# Get pandas data frame of continuous.dat on stream 'NI-DAQmx-103.PXIe-6341'\n",
    "continuous_data = recording.continuous[1].get_samples(start_sample_index=0, end_sample_index=40000)\n",
    "continuous_data = pd.DataFrame(continuous_data)\n",
    "continuous_data"
   ]
  },
  {
   "cell_type": "code",
   "execution_count": 5,
   "metadata": {},
   "outputs": [
    {
     "name": "stdout",
     "output_type": "stream",
     "text": [
      "2\n",
      "['PXIe-6341', 'ProbeA']\n"
     ]
    }
   ],
   "source": [
    "# check whether events exist on line 4\n",
    "events = recording.events\n",
    "\n",
    "# get unique elements of stream_name\n",
    "data_streams = list(set(events['stream_name']))\n",
    "\n",
    "print(len(data_streams))\n",
    "print(data_streams)"
   ]
  },
  {
   "cell_type": "code",
   "execution_count": 6,
   "metadata": {},
   "outputs": [],
   "source": [
    "# check whether sync line can be added\n",
    "\n",
    "# Sync line corresponding to heartbeat signal of ephys clock (1 pulse per second of duration 0.5 seconds). \n",
    "# Use this as the master clock (set main = True).\n",
    "recording.add_sync_line(1,                          # 'Heartbeat' signal line number\n",
    "                        100,                        # processor ID\n",
    "                        'ProbeA',                   # stream name\n",
    "                        main=True)                  # use as the main stream\n",
    "\n",
    "\n",
    "# Sync line corresponding to TTL pulses\n",
    "recording.add_sync_line(4,                          # TTL line number\n",
    "                        103,                        # processor ID\n",
    "                        'PXIe-6341',                # stream name\n",
    "                        main=False)                 # synchronize to main stream"
   ]
  },
  {
   "cell_type": "code",
   "execution_count": 7,
   "metadata": {},
   "outputs": [
    {
     "name": "stdout",
     "output_type": "stream",
     "text": [
      "Processor ID: 100, Stream Name: ProbeA, Line: 1 (main sync line))\n",
      "  First event sample number: 111557\n",
      "  Last event sample number: 97689097\n",
      "  Total sync events: 3261\n",
      "  Sample rate: 30000.0\n",
      "Processor ID: 103, Stream Name: PXIe-6341, Line: 1 (aux sync line))\n",
      "  First event sample number: 410439\n",
      "  Last event sample number: 129483523\n",
      "  Total sync events: 834\n",
      "  Scale factor: 0.752926868148036\n",
      "  Actual sample rate: 39844.507174767976\n"
     ]
    }
   ],
   "source": [
    "recording.compute_global_timestamps(overwrite=False)"
   ]
  },
  {
   "cell_type": "code",
   "execution_count": 8,
   "metadata": {},
   "outputs": [
    {
     "data": {
      "text/html": [
       "<div>\n",
       "<style scoped>\n",
       "    .dataframe tbody tr th:only-of-type {\n",
       "        vertical-align: middle;\n",
       "    }\n",
       "\n",
       "    .dataframe tbody tr th {\n",
       "        vertical-align: top;\n",
       "    }\n",
       "\n",
       "    .dataframe thead th {\n",
       "        text-align: right;\n",
       "    }\n",
       "</style>\n",
       "<table border=\"1\" class=\"dataframe\">\n",
       "  <thead>\n",
       "    <tr style=\"text-align: right;\">\n",
       "      <th></th>\n",
       "      <th>line</th>\n",
       "      <th>sample_number</th>\n",
       "      <th>timestamp</th>\n",
       "      <th>processor_id</th>\n",
       "      <th>stream_index</th>\n",
       "      <th>stream_name</th>\n",
       "      <th>state</th>\n",
       "      <th>global_timestamp</th>\n",
       "    </tr>\n",
       "  </thead>\n",
       "  <tbody>\n",
       "    <tr>\n",
       "      <th>0</th>\n",
       "      <td>1</td>\n",
       "      <td>157022</td>\n",
       "      <td>3.500025</td>\n",
       "      <td>103</td>\n",
       "      <td>1</td>\n",
       "      <td>PXIe-6341</td>\n",
       "      <td>1</td>\n",
       "      <td>-2.641582</td>\n",
       "    </tr>\n",
       "    <tr>\n",
       "      <th>1</th>\n",
       "      <td>1</td>\n",
       "      <td>111557</td>\n",
       "      <td>3.500029</td>\n",
       "      <td>100</td>\n",
       "      <td>0</td>\n",
       "      <td>ProbeA</td>\n",
       "      <td>1</td>\n",
       "      <td>3.718567</td>\n",
       "    </tr>\n",
       "    <tr>\n",
       "      <th>2</th>\n",
       "      <td>1</td>\n",
       "      <td>126557</td>\n",
       "      <td>4.000029</td>\n",
       "      <td>100</td>\n",
       "      <td>0</td>\n",
       "      <td>ProbeA</td>\n",
       "      <td>0</td>\n",
       "      <td>4.218567</td>\n",
       "    </tr>\n",
       "    <tr>\n",
       "      <th>3</th>\n",
       "      <td>1</td>\n",
       "      <td>177023</td>\n",
       "      <td>4.000050</td>\n",
       "      <td>103</td>\n",
       "      <td>1</td>\n",
       "      <td>PXIe-6341</td>\n",
       "      <td>0</td>\n",
       "      <td>-2.139606</td>\n",
       "    </tr>\n",
       "    <tr>\n",
       "      <th>4</th>\n",
       "      <td>1</td>\n",
       "      <td>197023</td>\n",
       "      <td>4.500050</td>\n",
       "      <td>103</td>\n",
       "      <td>1</td>\n",
       "      <td>PXIe-6341</td>\n",
       "      <td>1</td>\n",
       "      <td>-1.637655</td>\n",
       "    </tr>\n",
       "    <tr>\n",
       "      <th>...</th>\n",
       "      <td>...</td>\n",
       "      <td>...</td>\n",
       "      <td>...</td>\n",
       "      <td>...</td>\n",
       "      <td>...</td>\n",
       "      <td>...</td>\n",
       "      <td>...</td>\n",
       "      <td>...</td>\n",
       "    </tr>\n",
       "    <tr>\n",
       "      <th>14705</th>\n",
       "      <td>1</td>\n",
       "      <td>130518257</td>\n",
       "      <td>3262.530900</td>\n",
       "      <td>103</td>\n",
       "      <td>1</td>\n",
       "      <td>PXIe-6341</td>\n",
       "      <td>1</td>\n",
       "      <td>3269.107631</td>\n",
       "    </tr>\n",
       "    <tr>\n",
       "      <th>14706</th>\n",
       "      <td>1</td>\n",
       "      <td>97897211</td>\n",
       "      <td>3263.030722</td>\n",
       "      <td>100</td>\n",
       "      <td>0</td>\n",
       "      <td>ProbeA</td>\n",
       "      <td>0</td>\n",
       "      <td>3263.240367</td>\n",
       "    </tr>\n",
       "    <tr>\n",
       "      <th>14707</th>\n",
       "      <td>1</td>\n",
       "      <td>130538257</td>\n",
       "      <td>3263.030900</td>\n",
       "      <td>103</td>\n",
       "      <td>1</td>\n",
       "      <td>PXIe-6341</td>\n",
       "      <td>0</td>\n",
       "      <td>3269.609582</td>\n",
       "    </tr>\n",
       "    <tr>\n",
       "      <th>14708</th>\n",
       "      <td>1</td>\n",
       "      <td>97912211</td>\n",
       "      <td>3263.530724</td>\n",
       "      <td>100</td>\n",
       "      <td>0</td>\n",
       "      <td>ProbeA</td>\n",
       "      <td>1</td>\n",
       "      <td>3263.740367</td>\n",
       "    </tr>\n",
       "    <tr>\n",
       "      <th>14709</th>\n",
       "      <td>1</td>\n",
       "      <td>130558258</td>\n",
       "      <td>3263.530925</td>\n",
       "      <td>103</td>\n",
       "      <td>1</td>\n",
       "      <td>PXIe-6341</td>\n",
       "      <td>1</td>\n",
       "      <td>3270.111559</td>\n",
       "    </tr>\n",
       "  </tbody>\n",
       "</table>\n",
       "<p>14710 rows × 8 columns</p>\n",
       "</div>"
      ],
      "text/plain": [
       "       line  sample_number    timestamp  processor_id  stream_index  \\\n",
       "0         1         157022     3.500025           103             1   \n",
       "1         1         111557     3.500029           100             0   \n",
       "2         1         126557     4.000029           100             0   \n",
       "3         1         177023     4.000050           103             1   \n",
       "4         1         197023     4.500050           103             1   \n",
       "...     ...            ...          ...           ...           ...   \n",
       "14705     1      130518257  3262.530900           103             1   \n",
       "14706     1       97897211  3263.030722           100             0   \n",
       "14707     1      130538257  3263.030900           103             1   \n",
       "14708     1       97912211  3263.530724           100             0   \n",
       "14709     1      130558258  3263.530925           103             1   \n",
       "\n",
       "      stream_name  state  global_timestamp  \n",
       "0       PXIe-6341      1         -2.641582  \n",
       "1          ProbeA      1          3.718567  \n",
       "2          ProbeA      0          4.218567  \n",
       "3       PXIe-6341      0         -2.139606  \n",
       "4       PXIe-6341      1         -1.637655  \n",
       "...           ...    ...               ...  \n",
       "14705   PXIe-6341      1       3269.107631  \n",
       "14706      ProbeA      0       3263.240367  \n",
       "14707   PXIe-6341      0       3269.609582  \n",
       "14708      ProbeA      1       3263.740367  \n",
       "14709   PXIe-6341      1       3270.111559  \n",
       "\n",
       "[14710 rows x 8 columns]"
      ]
     },
     "execution_count": 8,
     "metadata": {},
     "output_type": "execute_result"
    }
   ],
   "source": [
    "event_df = recording.events\n",
    "event_df"
   ]
  },
  {
   "cell_type": "code",
   "execution_count": 9,
   "metadata": {},
   "outputs": [],
   "source": [
    "TTL_pulses = event_df[(event_df['stream_name'] == 'PXIe-6341') & (event_df['line'] == 4)]\n",
    "TTL_pulses = TTL_pulses.reset_index(drop=True)\n",
    "TTL_pulses\n",
    "\n",
    "# save the TTL pulses to a csv file\n",
    "output_folder = session_output_folder\n",
    "TTL_pulses.to_csv('TTL_pulses.csv', index=False)"
   ]
  },
  {
   "cell_type": "code",
   "execution_count": 14,
   "metadata": {},
   "outputs": [
    {
     "data": {
      "text/plain": [
       "(0.0, 50.0)"
      ]
     },
     "execution_count": 14,
     "metadata": {},
     "output_type": "execute_result"
    },
    {
     "data": {
      "image/png": "[encoded data removed]",
      "text/plain": [
       "<Figure size 640x480 with 1 Axes>"
      ]
     },
     "metadata": {},
     "output_type": "display_data"
    }
   ],
   "source": [
    "import matplotlib.pyplot as plt\n",
    "\n",
    "plt.plot(TTL_pulses['global_timestamp'], TTL_pulses['state'])\n",
    "plt.xlim(0, 50)"
   ]
  }
 ],
 "metadata": {
  "kernelspec": {
   "display_name": "open_ephys",
   "language": "python",
   "name": "python3"
  },
  "language_info": {
   "codemirror_mode": {
    "name": "ipython",
    "version": 3
   },
   "file_extension": ".py",
   "mimetype": "text/x-python",
   "name": "python",
   "nbconvert_exporter": "python",
   "pygments_lexer": "ipython3",
   "version": "3.10.14"
  }
 },
 "nbformat": 4,
 "nbformat_minor": 2
}
