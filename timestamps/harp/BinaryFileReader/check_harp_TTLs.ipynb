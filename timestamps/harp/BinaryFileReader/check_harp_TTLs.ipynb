{
 "cells": [
  {
   "cell_type": "markdown",
   "metadata": {},
   "source": [
    "#Functions and script to interface with recorded Harp Binaries#\n",
    "\n",
    "Where numbered binary files have been saved in Behavior.harp, and SoundCard.harp folders.\n",
    "We will create a general reader for the harp behavior board binaries and another specifically for register 32 of the sound card."
   ]
  },
  {
   "cell_type": "code",
   "execution_count": 4,
   "metadata": {},
   "outputs": [],
   "source": [
    "# Import main libraries and define data folder\n",
    "import numpy as np\n",
    "import harp\n",
    "import pandas as pd\n",
    "from harp.model import Model, Register, Access\n",
    "import os\n",
    "import matplotlib.pyplot as plt\n",
    "\n",
    "######################################################################################\n",
    "animal_ID = '101'\n",
    "session_ID = '2024-02-12T15-22-37'\n",
    "\n",
    "input_dir = r'W:\\projects\\FlexiVexi\\behavioural_data'\n",
    "output_dir = r'C:\\Users\\megan\\Documents\\sjlab\\flexible-navigation-task\\exploratory_analysis'\n",
    "######################################################################################"
   ]
  },
  {
   "cell_type": "markdown",
   "metadata": {},
   "source": [
    "**Get Data Frame of TTL Events**"
   ]
  },
  {
   "cell_type": "code",
   "execution_count": 5,
   "metadata": {},
   "outputs": [
    {
     "data": {
      "text/html": [
       "<div>\n",
       "<style scoped>\n",
       "    .dataframe tbody tr th:only-of-type {\n",
       "        vertical-align: middle;\n",
       "    }\n",
       "\n",
       "    .dataframe tbody tr th {\n",
       "        vertical-align: top;\n",
       "    }\n",
       "\n",
       "    .dataframe thead th {\n",
       "        text-align: right;\n",
       "    }\n",
       "</style>\n",
       "<table border=\"1\" class=\"dataframe\">\n",
       "  <thead>\n",
       "    <tr style=\"text-align: right;\">\n",
       "      <th></th>\n",
       "      <th>timestamp</th>\n",
       "      <th>state</th>\n",
       "    </tr>\n",
       "  </thead>\n",
       "  <tbody>\n",
       "    <tr>\n",
       "      <th>0</th>\n",
       "      <td>3.790596e+09</td>\n",
       "      <td>1</td>\n",
       "    </tr>\n",
       "    <tr>\n",
       "      <th>1</th>\n",
       "      <td>3.790596e+09</td>\n",
       "      <td>0</td>\n",
       "    </tr>\n",
       "    <tr>\n",
       "      <th>2</th>\n",
       "      <td>3.790596e+09</td>\n",
       "      <td>1</td>\n",
       "    </tr>\n",
       "    <tr>\n",
       "      <th>3</th>\n",
       "      <td>3.790596e+09</td>\n",
       "      <td>0</td>\n",
       "    </tr>\n",
       "    <tr>\n",
       "      <th>4</th>\n",
       "      <td>3.790596e+09</td>\n",
       "      <td>1</td>\n",
       "    </tr>\n",
       "    <tr>\n",
       "      <th>...</th>\n",
       "      <td>...</td>\n",
       "      <td>...</td>\n",
       "    </tr>\n",
       "    <tr>\n",
       "      <th>251</th>\n",
       "      <td>3.790597e+09</td>\n",
       "      <td>0</td>\n",
       "    </tr>\n",
       "    <tr>\n",
       "      <th>252</th>\n",
       "      <td>3.790597e+09</td>\n",
       "      <td>1</td>\n",
       "    </tr>\n",
       "    <tr>\n",
       "      <th>253</th>\n",
       "      <td>3.790597e+09</td>\n",
       "      <td>0</td>\n",
       "    </tr>\n",
       "    <tr>\n",
       "      <th>254</th>\n",
       "      <td>3.790597e+09</td>\n",
       "      <td>1</td>\n",
       "    </tr>\n",
       "    <tr>\n",
       "      <th>255</th>\n",
       "      <td>3.790597e+09</td>\n",
       "      <td>0</td>\n",
       "    </tr>\n",
       "  </tbody>\n",
       "</table>\n",
       "<p>256 rows × 2 columns</p>\n",
       "</div>"
      ],
      "text/plain": [
       "        timestamp  state\n",
       "0    3.790596e+09      1\n",
       "1    3.790596e+09      0\n",
       "2    3.790596e+09      1\n",
       "3    3.790596e+09      0\n",
       "4    3.790596e+09      1\n",
       "..            ...    ...\n",
       "251  3.790597e+09      0\n",
       "252  3.790597e+09      1\n",
       "253  3.790597e+09      0\n",
       "254  3.790597e+09      1\n",
       "255  3.790597e+09      0\n",
       "\n",
       "[256 rows x 2 columns]"
      ]
     },
     "execution_count": 5,
     "metadata": {},
     "output_type": "execute_result"
    }
   ],
   "source": [
    "# Load the behavior board binary data and show the resulting dataframe\n",
    "bin_b_path = os.path.join(input_dir, animal_ID, session_ID, \"Behavior.harp\")\n",
    "\n",
    "# Create reader for behavior.\n",
    "behavior_reader = harp.create_reader(bin_b_path)\n",
    "\n",
    "# Get data frame with timestamps of all instances of initiating TTL pulse\n",
    "ttl_on  = behavior_reader.OutputSet.read(keep_type=True)['DO2']\n",
    "ttl_on = ttl_on[ttl_on==True]\n",
    "ttl_on_df = pd.DataFrame({\n",
    "    'timestamp': ttl_on.index,\n",
    "    'state': 1\n",
    "})\n",
    "\n",
    "# Get data frame with timestamps of all instances of terminating a TTL pulse\n",
    "ttl_off = behavior_reader.OutputClear.read(keep_type=True)['DO2']\n",
    "ttl_off = ttl_off[ttl_off==True]\n",
    "ttl_off_df = pd.DataFrame({\n",
    "    'timestamp': ttl_off.index,\n",
    "    'state': 0\n",
    "})\n",
    "\n",
    "# Concatenate data frames into single stream of events describing state of TTL\n",
    "ttl_state_df = pd.concat([ttl_on_df,ttl_off_df], ignore_index=True)\n",
    "ttl_state_df = ttl_state_df.sort_values(by='timestamp')\n",
    "\n",
    "# Remove first 3 elements from harp initiation\n",
    "ttl_state_df = ttl_state_df.iloc[3:].reset_index(drop=True) # <-- Check this !!\n",
    "ttl_state_df\n"
   ]
  },
  {
   "cell_type": "markdown",
   "metadata": {},
   "source": [
    "**Add harp clock TTL times to experimental-data.csv**"
   ]
  },
  {
   "cell_type": "code",
   "execution_count": 6,
   "metadata": {},
   "outputs": [
    {
     "name": "stdout",
     "output_type": "stream",
     "text": [
      "   DotOnsetTime_ttl  DotOffsetTime_ttl\n",
      "0      3.790596e+09       3.790596e+09\n",
      "1      3.790596e+09       3.790596e+09\n",
      "2      3.790596e+09       3.790596e+09\n",
      "3      3.790596e+09       3.790596e+09\n",
      "4      3.790596e+09       3.790596e+09\n",
      "5      3.790596e+09       3.790596e+09\n",
      "6      3.790596e+09       3.790596e+09\n",
      "7      3.790596e+09       3.790596e+09\n",
      "8      3.790596e+09       3.790596e+09\n",
      "9      3.790596e+09       3.790596e+09\n",
      "43\n",
      "42\n"
     ]
    }
   ],
   "source": [
    "# Import behavioural data as data frame\n",
    "session_path = os.path.join(input_dir, animal_ID, session_ID)\n",
    "filepath = os.path.join(session_path, 'Experimental-data', session_ID + '_experimental-data.csv')\n",
    "data = pd.read_csv(filepath)\n",
    "\n",
    "# Align timestamps to common reference frame\n",
    "def get_dot_times_from_ttl(df):\n",
    "    dot_times_ttl = pd.DataFrame({\n",
    "        'DotOnsetTime_ttl': df['timestamp'].iloc[::6].tolist(),\n",
    "        'DotOffsetTime_ttl': df['timestamp'].iloc[2::6].tolist()\n",
    "    })\n",
    "    return(dot_times_ttl)\n",
    "\n",
    "dot_times_ttl = get_dot_times_from_ttl(ttl_state_df)\n",
    "print(dot_times_ttl.head(10))\n",
    "\n",
    "print(len(dot_times_ttl))\n",
    "print(len(data))\n",
    "\n",
    "# Add dot onset and offset times given by TTL pulses\n",
    "data = pd.concat([data, dot_times_ttl],axis=1)"
   ]
  },
  {
   "cell_type": "markdown",
   "metadata": {},
   "source": [
    "**Plot TTL trace**"
   ]
  },
  {
   "cell_type": "code",
   "execution_count": 7,
   "metadata": {},
   "outputs": [
    {
     "name": "stdout",
     "output_type": "stream",
     "text": [
      "Using matplotlib backend: QtAgg\n"
     ]
    },
    {
     "data": {
      "text/plain": [
       "<matplotlib.legend.Legend at 0x1dfaf79ec90>"
      ]
     },
     "execution_count": 7,
     "metadata": {},
     "output_type": "execute_result"
    }
   ],
   "source": [
    "def get_square_wave(df): # make names of x,y variables parameterised \n",
    "    #so function can be generalised to other variables / data frames?\n",
    "    # Create a new DataFrame with repeated elements\n",
    "    square_wave = {'timestamp': df['timestamp'].repeat(2).tolist()[1:],\n",
    "        'state': df['state'].repeat(2).tolist()[:-1]\n",
    "        }\n",
    "    square_wave = pd.DataFrame(square_wave)\n",
    "    return square_wave\n",
    "\n",
    "# Magic VSCode to out figures in external interactive matplotlib window\n",
    "%matplotlib\n",
    "\n",
    "ttl_trace = get_square_wave(ttl_state_df)\n",
    "\n",
    "plt.figure()\n",
    "ttl_trace.plot(x = 'timestamp', y = 'state')\n",
    "plt.title('Plot TTL pulses, ' + session_ID)\n",
    "plt.xlabel('timestamp (s)')\n",
    "plt.legend(loc = 'upper right')\n"
   ]
  },
  {
   "cell_type": "code",
   "execution_count": 173,
   "metadata": {},
   "outputs": [
    {
     "data": {
      "text/html": [
       "<div>\n",
       "<style scoped>\n",
       "    .dataframe tbody tr th:only-of-type {\n",
       "        vertical-align: middle;\n",
       "    }\n",
       "\n",
       "    .dataframe tbody tr th {\n",
       "        vertical-align: top;\n",
       "    }\n",
       "\n",
       "    .dataframe thead th {\n",
       "        text-align: right;\n",
       "    }\n",
       "</style>\n",
       "<table border=\"1\" class=\"dataframe\">\n",
       "  <thead>\n",
       "    <tr style=\"text-align: right;\">\n",
       "      <th></th>\n",
       "      <th>TrialStart</th>\n",
       "      <th>TrialEnd</th>\n",
       "    </tr>\n",
       "  </thead>\n",
       "  <tbody>\n",
       "    <tr>\n",
       "      <th>0</th>\n",
       "      <td>3.787916e+09</td>\n",
       "      <td>3.787916e+09</td>\n",
       "    </tr>\n",
       "  </tbody>\n",
       "</table>\n",
       "</div>"
      ],
      "text/plain": [
       "     TrialStart      TrialEnd\n",
       "0  3.787916e+09  3.787916e+09"
      ]
     },
     "execution_count": 173,
     "metadata": {},
     "output_type": "execute_result"
    }
   ],
   "source": [
    "# Open our experimental csv file (from bonsai only stores the last Poke and Audio cue)\n",
    "csv_path = os.path.join(input_dir,animal_ID,session_ID,\"Experimental-data\")\n",
    "exp_csv = pd.read_csv(csv_path + \"\\experimental-data.csv\")\n",
    "csv_out_path = os.path.join(output_dir, animal_ID, session_ID)\n",
    "\n",
    "# Read the start and end of each trial from this and grab the timestamps\n",
    "fields = ['TrialStart','TrialEnd']\n",
    "df_trials = exp_csv[fields]\n",
    "df_trials"
   ]
  }
 ],
 "metadata": {
  "kernelspec": {
   "display_name": "Python 3",
   "language": "python",
   "name": "python3"
  },
  "language_info": {
   "codemirror_mode": {
    "name": "ipython",
    "version": 3
   },
   "file_extension": ".py",
   "mimetype": "text/x-python",
   "name": "python",
   "nbconvert_exporter": "python",
   "pygments_lexer": "ipython3",
   "version": "3.11.7"
  }
 },
 "nbformat": 4,
 "nbformat_minor": 2
}
